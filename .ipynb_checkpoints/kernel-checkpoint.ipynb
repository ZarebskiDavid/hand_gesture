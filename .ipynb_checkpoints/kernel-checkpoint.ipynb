{
 "cells": [
  {
   "cell_type": "markdown",
   "metadata": {
    "_uuid": "5df13e3de169bef90961ee486706c1f6cba49640"
   },
   "source": [
    "A useful thing to do with high dimensional data is to represent it first in a subspace that is convenient for a human. It will allow one to build its intuition of the dataset based on 2D or 3D representation of this dataset."
   ]
  },
  {
   "cell_type": "code",
   "execution_count": 1,
   "metadata": {
    "_kg_hide-input": true,
    "_kg_hide-output": true,
    "_uuid": "4b2b2156e2f3c72339aaec87292ec1389208faab"
   },
   "outputs": [
    {
     "data": {
      "text/plain": [
       "['skeletal', 'near-infrared']"
      ]
     },
     "execution_count": 1,
     "metadata": {},
     "output_type": "execute_result"
    }
   ],
   "source": [
    "import os\n",
    "import pandas as pd\n",
    "\n",
    "INPUT_DIRECTORY = os.path.join(\"..\", \"input\")\n",
    "ARCHIVE_BASENAME = \"multimodhandgestrec\"\n",
    "ARCHIVE_SUBDIRECTORY = \"MultiModHandGestRec\"\n",
    "DATASET_DIRECTORY = os.path.join(INPUT_DIRECTORY, ARCHIVE_BASENAME, ARCHIVE_SUBDIRECTORY)\n",
    "\n",
    "os.listdir(DATASET_DIRECTORY)"
   ]
  },
  {
   "cell_type": "markdown",
   "metadata": {
    "_uuid": "4b32d9a923ec63df87ec6fe20750aa529119648f"
   },
   "source": [
    "The dataset is constituted by:\n",
    "* **near-infrared** images of hand poses and gestures captured by the LeapMotion sensor (a pair of camera)\n",
    "* **skeletal** higher level informations (skeletal) about fingers and hands extracted by LeapMotion vision algorithms\n",
    "\n",
    "Near infrared images constitutes a high dimensional dataset and require sharp and state of the art computer vision algorithms in order to extract high level information about hand pose and gesture. LeapMotion did a great job on it and for the sake of simplicity, we propose to focus on skeletal data first."
   ]
  },
  {
   "cell_type": "code",
   "execution_count": null,
   "metadata": {
    "_cell_guid": "b1076dfc-b9ad-4769-8c92-a6c4dae69d19",
    "_uuid": "8f2839f25d086af736a60e9eeb907d3b93b6e0e5",
    "collapsed": true
   },
   "outputs": [],
   "source": [
    "from xml.etree import ElementTree\n",
    "\n",
    "SKELETAL_DIRECTORY = os.path.join(DATASET_DIRECTORY, \"skeletal\")\n",
    "\n",
    "# dataset archive traversal while growing a dataset structured as a structure of array\n",
    "for subject in os.listdir(SKELETAL_DIRECTORY):\n",
    "    subject_directory = os.path.join(SKELETAL_DIRECTORY, subject)\n",
    "    for dataset in os.listdir(subject_directory):\n",
    "        dataset_directory = os.path.join(subject_directory, dataset)\n",
    "        for gesture in os.listdir(dataset_directory):\n",
    "            gesture_directory = os.path.join(dataset_directory, gesture)\n",
    "            for entry in os.listdir(gesture_directory):\n",
    "                # test if entry is a directory\n",
    "                if (os.path.isdir(entry)):\n",
    "                    # it is a test_gesture and subdirectories are related to multiple samples\n",
    "                    sample_directory = os.path.join(gesture_directory, entry)\n",
    "                   # if (strcmp(dataset, \"test_gesture\")\n",
    "                     #   raise ValueError(sample_directory . \" must be located in test_gesture directory\")\n",
    "                else:\n",
    "                    # it is a file\n",
    "                    print(\"dans sandbox\")\n",
    "                    print(\"toto\")\n",
    "                    print(\"manu au goulag\")\n",
    "                    print(os.path.join(gesture_directory, frame_filename))\n",
    "              #  tree = ElementTree.parse(os.path.join(gesture_directory, frame_filename))\n",
    "               # root = tree.getroot()\n",
    "                \n",
    "\n",
    "\n"
   ]
  },
  {
   "cell_type": "code",
   "execution_count": 51,
   "metadata": {
    "_uuid": "899bf2ff73f1a4e38e85f077d1897285c1b33ab0",
    "scrolled": true
   },
   "outputs": [
    {
     "name": "stdout",
     "output_type": "stream",
     "text": [
      "                                            img_path subject         serie  \\\n",
      "0  ../input/multimodhandgestrec/MultiModHandGestR...      13  test_gesture   \n",
      "1  ../input/multimodhandgestrec/MultiModHandGestR...      13  test_gesture   \n",
      "2  ../input/multimodhandgestrec/MultiModHandGestR...      13  test_gesture   \n",
      "3  ../input/multimodhandgestrec/MultiModHandGestR...      13  test_gesture   \n",
      "4  ../input/multimodhandgestrec/MultiModHandGestR...      13  test_gesture   \n",
      "\n",
      "   gesture try  \n",
      "0  16_five  04  \n",
      "1  16_five  04  \n",
      "2  16_five  04  \n",
      "3  16_five  04  \n",
      "4  16_five  04  \n"
     ]
    }
   ],
   "source": [
    "# import IMAGES in a dataframe\n",
    "result = [os.path.join(dp, f) for dp, dn, filenames in os.walk('../input/multimodhandgestrec/MultiModHandGestRec/near-infrared') for f in filenames]\n",
    "\n",
    "data_img = pd.DataFrame({\"img_path\": result}) # import list in a dataframe\n",
    "\n",
    "def extract_from_path(p, n): \n",
    "    return p.split('/')[n]\n",
    "\n",
    "# constitute fields from name extraction in paths\n",
    "data_img[\"subject\"] = data_img[\"img_path\"].apply(extract_from_path, args=(5,))\n",
    "data_img[\"serie\"] = data_img[\"img_path\"].apply(extract_from_path, args=(6,))\n",
    "data_img[\"gesture\"] = data_img[\"img_path\"].apply(extract_from_path, args=(7,))\n",
    "data_img[\"try\"] = data_img[\"img_path\"].apply(extract_from_path, args=(8,))\n",
    "\n",
    "print(data_img.head(5))"
   ]
  },
  {
   "cell_type": "code",
   "execution_count": 50,
   "metadata": {},
   "outputs": [
    {
     "name": "stdout",
     "output_type": "stream",
     "text": [
      "                                            xml_path subject         serie  \\\n",
      "0  ../input/multimodhandgestrec/MultiModHandGestR...      13  test_gesture   \n",
      "1  ../input/multimodhandgestrec/MultiModHandGestR...      13  test_gesture   \n",
      "2  ../input/multimodhandgestrec/MultiModHandGestR...      13  test_gesture   \n",
      "3  ../input/multimodhandgestrec/MultiModHandGestR...      13  test_gesture   \n",
      "4  ../input/multimodhandgestrec/MultiModHandGestR...      13  test_gesture   \n",
      "\n",
      "   gesture try  \n",
      "0  16_five  04  \n",
      "1  16_five  04  \n",
      "2  16_five  04  \n",
      "3  16_five  04  \n",
      "4  16_five  04  \n"
     ]
    }
   ],
   "source": [
    "# import XML\n",
    "\n",
    "result = [os.path.join(dp, f) for dp, dn, filenames in os.walk('../input/multimodhandgestrec/MultiModHandGestRec/skeletal') for f in filenames]\n",
    "\n",
    "data_xml = pd.DataFrame({\"xml_path\": result}) # import list in a dataframe\n",
    "\n",
    "data_xml[\"subject\"] = data_xml[\"xml_path\"].apply(extract_from_path, args=(5,))\n",
    "data_xml[\"serie\"] = data_xml[\"xml_path\"].apply(extract_from_path, args=(6,))\n",
    "data_xml[\"gesture\"] = data_xml[\"xml_path\"].apply(extract_from_path, args=(7,))\n",
    "data_xml[\"try\"] = data_xml[\"xml_path\"].apply(extract_from_path, args=(8,))\n",
    "\n",
    "print(data_xml.head(5))"
   ]
  },
  {
   "cell_type": "code",
   "execution_count": null,
   "metadata": {
    "collapsed": true
   },
   "outputs": [],
   "source": []
  },
  {
   "cell_type": "markdown",
   "metadata": {
    "_uuid": "940977495878241bc42b2491418efb012a43be8f"
   },
   "source": [
    "**Principal component analysis**"
   ]
  },
  {
   "cell_type": "markdown",
   "metadata": {
    "_uuid": "b869abedd17ee749e822cacb3680a59f6d6f34f8"
   },
   "source": [
    "**Self organizing map**"
   ]
  }
 ],
 "metadata": {
  "kernelspec": {
   "display_name": "Python 3",
   "language": "python",
   "name": "python3"
  },
  "language_info": {
   "codemirror_mode": {
    "name": "ipython",
    "version": 3
   },
   "file_extension": ".py",
   "mimetype": "text/x-python",
   "name": "python",
   "nbconvert_exporter": "python",
   "pygments_lexer": "ipython3",
   "version": "3.7.0"
  }
 },
 "nbformat": 4,
 "nbformat_minor": 1
}
